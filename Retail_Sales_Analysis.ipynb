{
 "cells": [
  {
   "cell_type": "code",
   "execution_count": 1,
   "id": "fbfc9f08-4dc9-4ea3-9570-b5db4ad1efa1",
   "metadata": {},
   "outputs": [],
   "source": [
    "import pandas as pd \n",
    "import numpy as np\n",
    "import matplotlib.pyplot as plt\n",
    "import seaborn as sns"
   ]
  },
  {
   "cell_type": "code",
   "execution_count": 2,
   "id": "fd4270ac-21e6-45ce-a2fe-36a4da2af229",
   "metadata": {},
   "outputs": [],
   "source": [
    "data=pd.read_csv('SQL - Retail Sales Analysis_utf .csv')"
   ]
  },
  {
   "cell_type": "code",
   "execution_count": 3,
   "id": "f3707d7f-916a-4cee-a9a3-ab41231831cc",
   "metadata": {},
   "outputs": [
    {
     "data": {
      "text/html": [
       "<div>\n",
       "<style scoped>\n",
       "    .dataframe tbody tr th:only-of-type {\n",
       "        vertical-align: middle;\n",
       "    }\n",
       "\n",
       "    .dataframe tbody tr th {\n",
       "        vertical-align: top;\n",
       "    }\n",
       "\n",
       "    .dataframe thead th {\n",
       "        text-align: right;\n",
       "    }\n",
       "</style>\n",
       "<table border=\"1\" class=\"dataframe\">\n",
       "  <thead>\n",
       "    <tr style=\"text-align: right;\">\n",
       "      <th></th>\n",
       "      <th>transactions_id</th>\n",
       "      <th>sale_date</th>\n",
       "      <th>sale_time</th>\n",
       "      <th>customer_id</th>\n",
       "      <th>gender</th>\n",
       "      <th>age</th>\n",
       "      <th>category</th>\n",
       "      <th>quantiy</th>\n",
       "      <th>price_per_unit</th>\n",
       "      <th>cogs</th>\n",
       "      <th>total_sale</th>\n",
       "    </tr>\n",
       "  </thead>\n",
       "  <tbody>\n",
       "    <tr>\n",
       "      <th>0</th>\n",
       "      <td>180</td>\n",
       "      <td>2022-11-05</td>\n",
       "      <td>10:47:00</td>\n",
       "      <td>117</td>\n",
       "      <td>Male</td>\n",
       "      <td>41.0</td>\n",
       "      <td>Clothing</td>\n",
       "      <td>3.0</td>\n",
       "      <td>300.0</td>\n",
       "      <td>129.0</td>\n",
       "      <td>900.0</td>\n",
       "    </tr>\n",
       "    <tr>\n",
       "      <th>1</th>\n",
       "      <td>522</td>\n",
       "      <td>2022-07-09</td>\n",
       "      <td>11:00:00</td>\n",
       "      <td>52</td>\n",
       "      <td>Male</td>\n",
       "      <td>46.0</td>\n",
       "      <td>Beauty</td>\n",
       "      <td>3.0</td>\n",
       "      <td>500.0</td>\n",
       "      <td>145.0</td>\n",
       "      <td>1500.0</td>\n",
       "    </tr>\n",
       "    <tr>\n",
       "      <th>2</th>\n",
       "      <td>559</td>\n",
       "      <td>2022-12-12</td>\n",
       "      <td>10:48:00</td>\n",
       "      <td>5</td>\n",
       "      <td>Female</td>\n",
       "      <td>40.0</td>\n",
       "      <td>Clothing</td>\n",
       "      <td>4.0</td>\n",
       "      <td>300.0</td>\n",
       "      <td>84.0</td>\n",
       "      <td>1200.0</td>\n",
       "    </tr>\n",
       "    <tr>\n",
       "      <th>3</th>\n",
       "      <td>1180</td>\n",
       "      <td>2022-01-06</td>\n",
       "      <td>08:53:00</td>\n",
       "      <td>85</td>\n",
       "      <td>Male</td>\n",
       "      <td>41.0</td>\n",
       "      <td>Clothing</td>\n",
       "      <td>3.0</td>\n",
       "      <td>300.0</td>\n",
       "      <td>129.0</td>\n",
       "      <td>900.0</td>\n",
       "    </tr>\n",
       "    <tr>\n",
       "      <th>4</th>\n",
       "      <td>1522</td>\n",
       "      <td>2022-11-14</td>\n",
       "      <td>08:35:00</td>\n",
       "      <td>48</td>\n",
       "      <td>Male</td>\n",
       "      <td>46.0</td>\n",
       "      <td>Beauty</td>\n",
       "      <td>3.0</td>\n",
       "      <td>500.0</td>\n",
       "      <td>235.0</td>\n",
       "      <td>1500.0</td>\n",
       "    </tr>\n",
       "  </tbody>\n",
       "</table>\n",
       "</div>"
      ],
      "text/plain": [
       "   transactions_id   sale_date sale_time  customer_id  gender   age  category  \\\n",
       "0              180  2022-11-05  10:47:00          117    Male  41.0  Clothing   \n",
       "1              522  2022-07-09  11:00:00           52    Male  46.0    Beauty   \n",
       "2              559  2022-12-12  10:48:00            5  Female  40.0  Clothing   \n",
       "3             1180  2022-01-06  08:53:00           85    Male  41.0  Clothing   \n",
       "4             1522  2022-11-14  08:35:00           48    Male  46.0    Beauty   \n",
       "\n",
       "   quantiy  price_per_unit   cogs  total_sale  \n",
       "0      3.0           300.0  129.0       900.0  \n",
       "1      3.0           500.0  145.0      1500.0  \n",
       "2      4.0           300.0   84.0      1200.0  \n",
       "3      3.0           300.0  129.0       900.0  \n",
       "4      3.0           500.0  235.0      1500.0  "
      ]
     },
     "execution_count": 3,
     "metadata": {},
     "output_type": "execute_result"
    }
   ],
   "source": [
    "data.head()"
   ]
  },
  {
   "cell_type": "code",
   "execution_count": 4,
   "id": "c357b54c-ce5d-4410-a605-e1a5177aefaf",
   "metadata": {},
   "outputs": [
    {
     "name": "stdout",
     "output_type": "stream",
     "text": [
      "<class 'pandas.core.frame.DataFrame'>\n",
      "RangeIndex: 2000 entries, 0 to 1999\n",
      "Data columns (total 11 columns):\n",
      " #   Column           Non-Null Count  Dtype  \n",
      "---  ------           --------------  -----  \n",
      " 0   transactions_id  2000 non-null   int64  \n",
      " 1   sale_date        2000 non-null   object \n",
      " 2   sale_time        2000 non-null   object \n",
      " 3   customer_id      2000 non-null   int64  \n",
      " 4   gender           2000 non-null   object \n",
      " 5   age              1990 non-null   float64\n",
      " 6   category         2000 non-null   object \n",
      " 7   quantiy          1997 non-null   float64\n",
      " 8   price_per_unit   1997 non-null   float64\n",
      " 9   cogs             1997 non-null   float64\n",
      " 10  total_sale       1997 non-null   float64\n",
      "dtypes: float64(5), int64(2), object(4)\n",
      "memory usage: 172.0+ KB\n"
     ]
    }
   ],
   "source": [
    "data.info()"
   ]
  },
  {
   "cell_type": "code",
   "execution_count": 5,
   "id": "2b163b8c-0e75-44cb-a0c5-fb0c75784ca2",
   "metadata": {},
   "outputs": [
    {
     "data": {
      "text/html": [
       "<div>\n",
       "<style scoped>\n",
       "    .dataframe tbody tr th:only-of-type {\n",
       "        vertical-align: middle;\n",
       "    }\n",
       "\n",
       "    .dataframe tbody tr th {\n",
       "        vertical-align: top;\n",
       "    }\n",
       "\n",
       "    .dataframe thead th {\n",
       "        text-align: right;\n",
       "    }\n",
       "</style>\n",
       "<table border=\"1\" class=\"dataframe\">\n",
       "  <thead>\n",
       "    <tr style=\"text-align: right;\">\n",
       "      <th></th>\n",
       "      <th>transactions_id</th>\n",
       "      <th>customer_id</th>\n",
       "      <th>age</th>\n",
       "      <th>quantiy</th>\n",
       "      <th>price_per_unit</th>\n",
       "      <th>cogs</th>\n",
       "      <th>total_sale</th>\n",
       "    </tr>\n",
       "  </thead>\n",
       "  <tbody>\n",
       "    <tr>\n",
       "      <th>count</th>\n",
       "      <td>2000.000000</td>\n",
       "      <td>2000.000000</td>\n",
       "      <td>1990.000000</td>\n",
       "      <td>1997.000000</td>\n",
       "      <td>1997.000000</td>\n",
       "      <td>1997.000000</td>\n",
       "      <td>1997.000000</td>\n",
       "    </tr>\n",
       "    <tr>\n",
       "      <th>mean</th>\n",
       "      <td>1000.500000</td>\n",
       "      <td>66.341500</td>\n",
       "      <td>41.343216</td>\n",
       "      <td>2.512769</td>\n",
       "      <td>180.117677</td>\n",
       "      <td>95.023886</td>\n",
       "      <td>456.544817</td>\n",
       "    </tr>\n",
       "    <tr>\n",
       "      <th>std</th>\n",
       "      <td>577.494589</td>\n",
       "      <td>44.937185</td>\n",
       "      <td>13.668167</td>\n",
       "      <td>1.132708</td>\n",
       "      <td>189.685225</td>\n",
       "      <td>121.898695</td>\n",
       "      <td>560.101381</td>\n",
       "    </tr>\n",
       "    <tr>\n",
       "      <th>min</th>\n",
       "      <td>1.000000</td>\n",
       "      <td>1.000000</td>\n",
       "      <td>18.000000</td>\n",
       "      <td>1.000000</td>\n",
       "      <td>25.000000</td>\n",
       "      <td>6.250000</td>\n",
       "      <td>25.000000</td>\n",
       "    </tr>\n",
       "    <tr>\n",
       "      <th>25%</th>\n",
       "      <td>500.750000</td>\n",
       "      <td>24.000000</td>\n",
       "      <td>29.000000</td>\n",
       "      <td>1.000000</td>\n",
       "      <td>30.000000</td>\n",
       "      <td>13.000000</td>\n",
       "      <td>60.000000</td>\n",
       "    </tr>\n",
       "    <tr>\n",
       "      <th>50%</th>\n",
       "      <td>1000.500000</td>\n",
       "      <td>69.000000</td>\n",
       "      <td>42.000000</td>\n",
       "      <td>3.000000</td>\n",
       "      <td>50.000000</td>\n",
       "      <td>27.500000</td>\n",
       "      <td>150.000000</td>\n",
       "    </tr>\n",
       "    <tr>\n",
       "      <th>75%</th>\n",
       "      <td>1500.250000</td>\n",
       "      <td>102.000000</td>\n",
       "      <td>53.000000</td>\n",
       "      <td>4.000000</td>\n",
       "      <td>300.000000</td>\n",
       "      <td>147.000000</td>\n",
       "      <td>900.000000</td>\n",
       "    </tr>\n",
       "    <tr>\n",
       "      <th>max</th>\n",
       "      <td>2000.000000</td>\n",
       "      <td>155.000000</td>\n",
       "      <td>64.000000</td>\n",
       "      <td>4.000000</td>\n",
       "      <td>500.000000</td>\n",
       "      <td>620.000000</td>\n",
       "      <td>2000.000000</td>\n",
       "    </tr>\n",
       "  </tbody>\n",
       "</table>\n",
       "</div>"
      ],
      "text/plain": [
       "       transactions_id  customer_id          age      quantiy  price_per_unit  \\\n",
       "count      2000.000000  2000.000000  1990.000000  1997.000000     1997.000000   \n",
       "mean       1000.500000    66.341500    41.343216     2.512769      180.117677   \n",
       "std         577.494589    44.937185    13.668167     1.132708      189.685225   \n",
       "min           1.000000     1.000000    18.000000     1.000000       25.000000   \n",
       "25%         500.750000    24.000000    29.000000     1.000000       30.000000   \n",
       "50%        1000.500000    69.000000    42.000000     3.000000       50.000000   \n",
       "75%        1500.250000   102.000000    53.000000     4.000000      300.000000   \n",
       "max        2000.000000   155.000000    64.000000     4.000000      500.000000   \n",
       "\n",
       "              cogs   total_sale  \n",
       "count  1997.000000  1997.000000  \n",
       "mean     95.023886   456.544817  \n",
       "std     121.898695   560.101381  \n",
       "min       6.250000    25.000000  \n",
       "25%      13.000000    60.000000  \n",
       "50%      27.500000   150.000000  \n",
       "75%     147.000000   900.000000  \n",
       "max     620.000000  2000.000000  "
      ]
     },
     "execution_count": 5,
     "metadata": {},
     "output_type": "execute_result"
    }
   ],
   "source": [
    "data.describe()"
   ]
  },
  {
   "cell_type": "code",
   "execution_count": 6,
   "id": "0adcff69-ebfc-4065-acb7-f07eeb23b4ad",
   "metadata": {},
   "outputs": [
    {
     "data": {
      "text/plain": [
       "(2000, 11)"
      ]
     },
     "execution_count": 6,
     "metadata": {},
     "output_type": "execute_result"
    }
   ],
   "source": [
    "data.shape"
   ]
  },
  {
   "cell_type": "code",
   "execution_count": 7,
   "id": "6d9086a9-1ea0-41a9-8210-4f872b837595",
   "metadata": {},
   "outputs": [
    {
     "data": {
      "text/plain": [
       "transactions_id      int64\n",
       "sale_date           object\n",
       "sale_time           object\n",
       "customer_id          int64\n",
       "gender              object\n",
       "age                float64\n",
       "category            object\n",
       "quantiy            float64\n",
       "price_per_unit     float64\n",
       "cogs               float64\n",
       "total_sale         float64\n",
       "dtype: object"
      ]
     },
     "execution_count": 7,
     "metadata": {},
     "output_type": "execute_result"
    }
   ],
   "source": [
    "data.dtypes"
   ]
  },
  {
   "cell_type": "code",
   "execution_count": 8,
   "id": "db76b150-c881-4eda-8c27-0be2339e269d",
   "metadata": {},
   "outputs": [
    {
     "data": {
      "text/plain": [
       "transactions_id     0\n",
       "sale_date           0\n",
       "sale_time           0\n",
       "customer_id         0\n",
       "gender              0\n",
       "age                10\n",
       "category            0\n",
       "quantiy             3\n",
       "price_per_unit      3\n",
       "cogs                3\n",
       "total_sale          3\n",
       "dtype: int64"
      ]
     },
     "execution_count": 8,
     "metadata": {},
     "output_type": "execute_result"
    }
   ],
   "source": [
    "data.isnull().sum()"
   ]
  },
  {
   "cell_type": "code",
   "execution_count": 9,
   "id": "4c8b6a21-0ba3-41b0-883d-21cd72469c41",
   "metadata": {},
   "outputs": [],
   "source": [
    "data.dropna(inplace=True)"
   ]
  },
  {
   "cell_type": "code",
   "execution_count": 10,
   "id": "1e0cf271-c511-450d-b171-84621cacd7ea",
   "metadata": {},
   "outputs": [
    {
     "data": {
      "text/plain": [
       "0"
      ]
     },
     "execution_count": 10,
     "metadata": {},
     "output_type": "execute_result"
    }
   ],
   "source": [
    "len(data[data.duplicated()])"
   ]
  },
  {
   "cell_type": "code",
   "execution_count": 11,
   "id": "b64368b6-fb4f-48bd-9673-b5ec3f356b35",
   "metadata": {},
   "outputs": [],
   "source": [
    "data['sale_date']=pd.to_datetime(data['sale_date'])"
   ]
  },
  {
   "cell_type": "code",
   "execution_count": 12,
   "id": "67377535-5f0d-46a3-bb83-b7ce18a8e631",
   "metadata": {},
   "outputs": [],
   "source": [
    "data['age']=data['age'].astype(int)"
   ]
  },
  {
   "cell_type": "code",
   "execution_count": 13,
   "id": "4e39a665-b16e-4904-b4de-5c424ddc5d8b",
   "metadata": {},
   "outputs": [],
   "source": [
    "data['year']=pd.DatetimeIndex(data['sale_date']).year"
   ]
  },
  {
   "cell_type": "code",
   "execution_count": 14,
   "id": "53593643-961d-42d1-94a3-0a6a8a346724",
   "metadata": {},
   "outputs": [],
   "source": [
    "data['month']=pd.DatetimeIndex(data['sale_date']).month"
   ]
  },
  {
   "cell_type": "code",
   "execution_count": 15,
   "id": "72300f09-b1eb-49c8-bd46-16f90515a84c",
   "metadata": {},
   "outputs": [],
   "source": [
    "data['profit']=data['total_sale']-data['cogs']"
   ]
  },
  {
   "cell_type": "code",
   "execution_count": 16,
   "id": "2e11ce32-97f7-4200-8eeb-d3ed69dfc49f",
   "metadata": {},
   "outputs": [],
   "source": [
    "data['day_of_week'] = data['sale_date'].dt.day_name()\n"
   ]
  },
  {
   "cell_type": "code",
   "execution_count": 17,
   "id": "35a4c935-9199-47b4-94d3-139f0fabd84d",
   "metadata": {},
   "outputs": [],
   "source": [
    "def assign_age_group(age):\n",
    "    if age < 20:\n",
    "        return 'Teen'\n",
    "    elif 20 <= age < 40:\n",
    "        return 'Adult'\n",
    "    else:\n",
    "        return 'Old'\n",
    "        \n",
    "data['age_group'] = data['age'].apply(assign_age_group)        "
   ]
  },
  {
   "cell_type": "markdown",
   "id": "5e71bee0-6b34-4047-a8c0-caddc046d62a",
   "metadata": {},
   "source": [
    "# gender distribution "
   ]
  },
  {
   "cell_type": "code",
   "execution_count": 18,
   "id": "84a908c1-540f-447e-91a1-1cb20df62ae8",
   "metadata": {},
   "outputs": [
    {
     "data": {
      "image/png": "[encoded data removed]",
      "text/plain": [
       "<Figure size 640x480 with 1 Axes>"
      ]
     },
     "metadata": {},
     "output_type": "display_data"
    }
   ],
   "source": [
    "data['gender'].value_counts().plot(kind='pie',autopct='%1.2f%%')\n",
    "plt.title('gender distribution')\n",
    "plt.show()"
   ]
  },
  {
   "cell_type": "markdown",
   "id": "fb4d064d-2aac-418f-a16f-77ead8e0c760",
   "metadata": {},
   "source": [
    "# Gender & Age Distribution"
   ]
  },
  {
   "cell_type": "code",
   "execution_count": 19,
   "id": "c52574a8-dbb9-447e-aa4f-114ad96bcf91",
   "metadata": {},
   "outputs": [
    {
     "data": {
      "image/png": "[encoded data removed]",
      "text/plain": [
       "<Figure size 640x480 with 1 Axes>"
      ]
     },
     "metadata": {},
     "output_type": "display_data"
    }
   ],
   "source": [
    "sns.boxplot(x='gender',y='age',data=data)\n",
    "plt.title('Gender & Age Distribution')\n",
    "plt.show()"
   ]
  },
  {
   "cell_type": "markdown",
   "id": "b34e10e9-ea8b-4168-9521-eefad7b69d24",
   "metadata": {},
   "source": [
    "# Total Sales By categories"
   ]
  },
  {
   "cell_type": "code",
   "execution_count": 20,
   "id": "6ec0bedd-6750-4051-8be4-24f68b308b5b",
   "metadata": {},
   "outputs": [],
   "source": [
    "Total_Sales_By_categories=data.groupby('category')['total_sale'].sum().sort_values(ascending=True).reset_index()"
   ]
  },
  {
   "cell_type": "code",
   "execution_count": 21,
   "id": "c02a0dfc-b501-4ba3-95de-14bb3c766a1d",
   "metadata": {},
   "outputs": [
    {
     "data": {
      "image/png": "[encoded data removed]",
      "text/plain": [
       "<Figure size 640x480 with 1 Axes>"
      ]
     },
     "metadata": {},
     "output_type": "display_data"
    }
   ],
   "source": [
    "sns.barplot(x='category',y='total_sale',data=Total_Sales_By_categories)\n",
    "plt.title(' Total Sales By categories')\n",
    "plt.show()"
   ]
  },
  {
   "cell_type": "markdown",
   "id": "379ac349-ad75-4af1-aee9-574d60f26f0c",
   "metadata": {},
   "source": [
    "# profit By day_of_week"
   ]
  },
  {
   "cell_type": "code",
   "execution_count": 22,
   "id": "5dc7a105-7b60-413c-9b11-0558a2ec939b",
   "metadata": {},
   "outputs": [],
   "source": [
    "profit_By_day_of_week=data.groupby('day_of_week')['profit'].sum().sort_values(ascending=True).reset_index()"
   ]
  },
  {
   "cell_type": "code",
   "execution_count": 23,
   "id": "3c300025-bac7-4243-86a7-ef3bd96c900d",
   "metadata": {},
   "outputs": [
    {
     "data": {
      "image/png": "[encoded data removed]",
      "text/plain": [
       "<Figure size 640x480 with 1 Axes>"
      ]
     },
     "metadata": {},
     "output_type": "display_data"
    }
   ],
   "source": [
    "sns.lineplot(x='day_of_week',y='profit',data=profit_By_day_of_week)\n",
    "plt.title('profit By day_of_week')\n",
    "plt.show()"
   ]
  },
  {
   "cell_type": "markdown",
   "id": "d03b27f7-3e31-44b4-ab47-5258bb905038",
   "metadata": {},
   "source": [
    "# profit By month"
   ]
  },
  {
   "cell_type": "code",
   "execution_count": 24,
   "id": "b6dcb2b9-e0a7-4d5e-b396-7613693faa16",
   "metadata": {},
   "outputs": [],
   "source": [
    "profit_By_month=data.groupby('month')['profit'].sum().sort_values(ascending=True).reset_index()"
   ]
  },
  {
   "cell_type": "code",
   "execution_count": 25,
   "id": "91b9abf5-470a-46b2-99ee-f564d50a9379",
   "metadata": {},
   "outputs": [
    {
     "data": {
      "image/png": "[encoded data removed]",
      "text/plain": [
       "<Figure size 640x480 with 1 Axes>"
      ]
     },
     "metadata": {},
     "output_type": "display_data"
    }
   ],
   "source": [
    "sns.lineplot(x='month',y='profit',data=profit_By_month)\n",
    "plt.title('profit By month')\n",
    "plt.show()"
   ]
  },
  {
   "cell_type": "markdown",
   "id": "7b90fa70-29ba-4f3b-9cc3-9b357186efff",
   "metadata": {},
   "source": [
    "# Sales by Category "
   ]
  },
  {
   "cell_type": "code",
   "execution_count": 26,
   "id": "777bc19c-c271-4939-9150-dc18ba0c0d11",
   "metadata": {},
   "outputs": [],
   "source": [
    "sales_pivot=data.pivot_table(index='category',values='total_sale',aggfunc=['sum', 'mean', 'count'])"
   ]
  },
  {
   "cell_type": "code",
   "execution_count": 27,
   "id": "bc8dbf6b-9efe-44a5-be82-e1855c4ac09a",
   "metadata": {},
   "outputs": [],
   "source": [
    "sales_pivot.columns = ['Total Sales', 'Average Sales', 'Sales Count']"
   ]
  },
  {
   "cell_type": "code",
   "execution_count": 28,
   "id": "62acc6a7-c5d3-4e80-b7eb-f6c06576b020",
   "metadata": {},
   "outputs": [
    {
     "data": {
      "text/html": [
       "<div>\n",
       "<style scoped>\n",
       "    .dataframe tbody tr th:only-of-type {\n",
       "        vertical-align: middle;\n",
       "    }\n",
       "\n",
       "    .dataframe tbody tr th {\n",
       "        vertical-align: top;\n",
       "    }\n",
       "\n",
       "    .dataframe thead th {\n",
       "        text-align: right;\n",
       "    }\n",
       "</style>\n",
       "<table border=\"1\" class=\"dataframe\">\n",
       "  <thead>\n",
       "    <tr style=\"text-align: right;\">\n",
       "      <th></th>\n",
       "      <th>Total Sales</th>\n",
       "      <th>Average Sales</th>\n",
       "      <th>Sales Count</th>\n",
       "    </tr>\n",
       "    <tr>\n",
       "      <th>category</th>\n",
       "      <th></th>\n",
       "      <th></th>\n",
       "      <th></th>\n",
       "    </tr>\n",
       "  </thead>\n",
       "  <tbody>\n",
       "    <tr>\n",
       "      <th>Beauty</th>\n",
       "      <td>286790.0</td>\n",
       "      <td>469.378069</td>\n",
       "      <td>611</td>\n",
       "    </tr>\n",
       "    <tr>\n",
       "      <th>Clothing</th>\n",
       "      <td>309995.0</td>\n",
       "      <td>444.118911</td>\n",
       "      <td>698</td>\n",
       "    </tr>\n",
       "    <tr>\n",
       "      <th>Electronics</th>\n",
       "      <td>311445.0</td>\n",
       "      <td>459.358407</td>\n",
       "      <td>678</td>\n",
       "    </tr>\n",
       "  </tbody>\n",
       "</table>\n",
       "</div>"
      ],
      "text/plain": [
       "             Total Sales  Average Sales  Sales Count\n",
       "category                                            \n",
       "Beauty          286790.0     469.378069          611\n",
       "Clothing        309995.0     444.118911          698\n",
       "Electronics     311445.0     459.358407          678"
      ]
     },
     "execution_count": 28,
     "metadata": {},
     "output_type": "execute_result"
    }
   ],
   "source": [
    "sales_pivot"
   ]
  },
  {
   "cell_type": "markdown",
   "id": "182d701e-e1f9-49c5-97b1-4e9d2dbed733",
   "metadata": {},
   "source": [
    "# profit by Category "
   ]
  },
  {
   "cell_type": "code",
   "execution_count": 29,
   "id": "cdca177b-0b23-40bc-837c-ba240168c371",
   "metadata": {},
   "outputs": [],
   "source": [
    "profit_by_gender=data.groupby('gender')['profit'].sum().reset_index()"
   ]
  },
  {
   "cell_type": "code",
   "execution_count": 30,
   "id": "17685319-2881-49fc-891b-5c07ff538a6b",
   "metadata": {},
   "outputs": [
    {
     "data": {
      "text/html": [
       "<div>\n",
       "<style scoped>\n",
       "    .dataframe tbody tr th:only-of-type {\n",
       "        vertical-align: middle;\n",
       "    }\n",
       "\n",
       "    .dataframe tbody tr th {\n",
       "        vertical-align: top;\n",
       "    }\n",
       "\n",
       "    .dataframe thead th {\n",
       "        text-align: right;\n",
       "    }\n",
       "</style>\n",
       "<table border=\"1\" class=\"dataframe\">\n",
       "  <thead>\n",
       "    <tr style=\"text-align: right;\">\n",
       "      <th></th>\n",
       "      <th>gender</th>\n",
       "      <th>profit</th>\n",
       "    </tr>\n",
       "  </thead>\n",
       "  <tbody>\n",
       "    <tr>\n",
       "      <th>0</th>\n",
       "      <td>Female</td>\n",
       "      <td>360221.75</td>\n",
       "    </tr>\n",
       "    <tr>\n",
       "      <th>1</th>\n",
       "      <td>Male</td>\n",
       "      <td>359080.45</td>\n",
       "    </tr>\n",
       "  </tbody>\n",
       "</table>\n",
       "</div>"
      ],
      "text/plain": [
       "   gender     profit\n",
       "0  Female  360221.75\n",
       "1    Male  359080.45"
      ]
     },
     "execution_count": 30,
     "metadata": {},
     "output_type": "execute_result"
    }
   ],
   "source": [
    "profit_by_gender"
   ]
  },
  {
   "cell_type": "markdown",
   "id": "8f282e92-c6b1-4b88-a1ec-63050bddc840",
   "metadata": {},
   "source": [
    "# profit_by_age_group"
   ]
  },
  {
   "cell_type": "code",
   "execution_count": 31,
   "id": "84def437-ab10-41e0-ab3d-fec85e3861b0",
   "metadata": {},
   "outputs": [],
   "source": [
    "profit_by_age_group=data.groupby('age_group')['profit'].sum().reset_index()"
   ]
  },
  {
   "cell_type": "code",
   "execution_count": 32,
   "id": "bd078296-1023-4bd0-ba42-6549f6969534",
   "metadata": {},
   "outputs": [
    {
     "data": {
      "text/html": [
       "<div>\n",
       "<style scoped>\n",
       "    .dataframe tbody tr th:only-of-type {\n",
       "        vertical-align: middle;\n",
       "    }\n",
       "\n",
       "    .dataframe tbody tr th {\n",
       "        vertical-align: top;\n",
       "    }\n",
       "\n",
       "    .dataframe thead th {\n",
       "        text-align: right;\n",
       "    }\n",
       "</style>\n",
       "<table border=\"1\" class=\"dataframe\">\n",
       "  <thead>\n",
       "    <tr style=\"text-align: right;\">\n",
       "      <th></th>\n",
       "      <th>age_group</th>\n",
       "      <th>profit</th>\n",
       "    </tr>\n",
       "  </thead>\n",
       "  <tbody>\n",
       "    <tr>\n",
       "      <th>0</th>\n",
       "      <td>Adult</td>\n",
       "      <td>307176.7</td>\n",
       "    </tr>\n",
       "    <tr>\n",
       "      <th>1</th>\n",
       "      <td>Old</td>\n",
       "      <td>370297.6</td>\n",
       "    </tr>\n",
       "    <tr>\n",
       "      <th>2</th>\n",
       "      <td>Teen</td>\n",
       "      <td>41827.9</td>\n",
       "    </tr>\n",
       "  </tbody>\n",
       "</table>\n",
       "</div>"
      ],
      "text/plain": [
       "  age_group    profit\n",
       "0     Adult  307176.7\n",
       "1       Old  370297.6\n",
       "2      Teen   41827.9"
      ]
     },
     "execution_count": 32,
     "metadata": {},
     "output_type": "execute_result"
    }
   ],
   "source": [
    "profit_by_age_group"
   ]
  },
  {
   "cell_type": "markdown",
   "id": "7c9c5751-d0f7-4c1e-b2d5-09b83c366e66",
   "metadata": {},
   "source": [
    "# Customers Spending  more that average"
   ]
  },
  {
   "cell_type": "code",
   "execution_count": 33,
   "id": "b50756cb-5e03-448c-ab11-e5857a3d38f6",
   "metadata": {},
   "outputs": [],
   "source": [
    "average_sales=data['total_sale'].mean()"
   ]
  },
  {
   "cell_type": "code",
   "execution_count": 34,
   "id": "abdcc46d-212a-4bbe-9095-e282f2ac52fa",
   "metadata": {},
   "outputs": [],
   "source": [
    "average_sales_by_customer=data.groupby('customer_id')['total_sale'].mean()>average_sales"
   ]
  },
  {
   "cell_type": "code",
   "execution_count": 35,
   "id": "e19fd765-2432-489a-ac89-6f6418f01331",
   "metadata": {},
   "outputs": [
    {
     "data": {
      "text/plain": [
       "Index([  1,   2,   3,   4,   5,   6,   7,   8,   9,  10,\n",
       "       ...\n",
       "       146, 147, 148, 149, 150, 151, 152, 153, 154, 155],\n",
       "      dtype='int64', name='customer_id', length=155)"
      ]
     },
     "execution_count": 35,
     "metadata": {},
     "output_type": "execute_result"
    }
   ],
   "source": [
    "average_sales_by_customer.index"
   ]
  },
  {
   "cell_type": "markdown",
   "id": "15f9b780-5a69-49eb-a2ee-38da2084035c",
   "metadata": {},
   "source": [
    "# Customer Lifetime Value"
   ]
  },
  {
   "cell_type": "code",
   "execution_count": 36,
   "id": "66834d93-13e4-4a6e-83d2-8c92936950d6",
   "metadata": {},
   "outputs": [
    {
     "data": {
      "text/html": [
       "<div>\n",
       "<style scoped>\n",
       "    .dataframe tbody tr th:only-of-type {\n",
       "        vertical-align: middle;\n",
       "    }\n",
       "\n",
       "    .dataframe tbody tr th {\n",
       "        vertical-align: top;\n",
       "    }\n",
       "\n",
       "    .dataframe thead th {\n",
       "        text-align: right;\n",
       "    }\n",
       "</style>\n",
       "<table border=\"1\" class=\"dataframe\">\n",
       "  <thead>\n",
       "    <tr style=\"text-align: right;\">\n",
       "      <th></th>\n",
       "      <th>total_sale</th>\n",
       "      <th>quantiy</th>\n",
       "    </tr>\n",
       "    <tr>\n",
       "      <th>customer_id</th>\n",
       "      <th></th>\n",
       "      <th></th>\n",
       "    </tr>\n",
       "  </thead>\n",
       "  <tbody>\n",
       "    <tr>\n",
       "      <th>1</th>\n",
       "      <td>30750.0</td>\n",
       "      <td>186.0</td>\n",
       "    </tr>\n",
       "    <tr>\n",
       "      <th>2</th>\n",
       "      <td>25295.0</td>\n",
       "      <td>154.0</td>\n",
       "    </tr>\n",
       "    <tr>\n",
       "      <th>3</th>\n",
       "      <td>38440.0</td>\n",
       "      <td>201.0</td>\n",
       "    </tr>\n",
       "    <tr>\n",
       "      <th>4</th>\n",
       "      <td>23580.0</td>\n",
       "      <td>164.0</td>\n",
       "    </tr>\n",
       "    <tr>\n",
       "      <th>5</th>\n",
       "      <td>30405.0</td>\n",
       "      <td>159.0</td>\n",
       "    </tr>\n",
       "    <tr>\n",
       "      <th>...</th>\n",
       "      <td>...</td>\n",
       "      <td>...</td>\n",
       "    </tr>\n",
       "    <tr>\n",
       "      <th>151</th>\n",
       "      <td>2950.0</td>\n",
       "      <td>19.0</td>\n",
       "    </tr>\n",
       "    <tr>\n",
       "      <th>152</th>\n",
       "      <td>1830.0</td>\n",
       "      <td>12.0</td>\n",
       "    </tr>\n",
       "    <tr>\n",
       "      <th>153</th>\n",
       "      <td>2225.0</td>\n",
       "      <td>9.0</td>\n",
       "    </tr>\n",
       "    <tr>\n",
       "      <th>154</th>\n",
       "      <td>1605.0</td>\n",
       "      <td>7.0</td>\n",
       "    </tr>\n",
       "    <tr>\n",
       "      <th>155</th>\n",
       "      <td>1755.0</td>\n",
       "      <td>24.0</td>\n",
       "    </tr>\n",
       "  </tbody>\n",
       "</table>\n",
       "<p>155 rows × 2 columns</p>\n",
       "</div>"
      ],
      "text/plain": [
       "             total_sale  quantiy\n",
       "customer_id                     \n",
       "1               30750.0    186.0\n",
       "2               25295.0    154.0\n",
       "3               38440.0    201.0\n",
       "4               23580.0    164.0\n",
       "5               30405.0    159.0\n",
       "...                 ...      ...\n",
       "151              2950.0     19.0\n",
       "152              1830.0     12.0\n",
       "153              2225.0      9.0\n",
       "154              1605.0      7.0\n",
       "155              1755.0     24.0\n",
       "\n",
       "[155 rows x 2 columns]"
      ]
     },
     "execution_count": 36,
     "metadata": {},
     "output_type": "execute_result"
    }
   ],
   "source": [
    "data.groupby('customer_id')[['total_sale','quantiy']].sum()"
   ]
  },
  {
   "cell_type": "code",
   "execution_count": null,
   "id": "88e91ca6-bb74-45b6-a8dc-726bb1561819",
   "metadata": {},
   "outputs": [],
   "source": []
  }
 ],
 "metadata": {
  "kernelspec": {
   "display_name": "Python 3 (ipykernel)",
   "language": "python",
   "name": "python3"
  },
  "language_info": {
   "codemirror_mode": {
    "name": "ipython",
    "version": 3
   },
   "file_extension": ".py",
   "mimetype": "text/x-python",
   "name": "python",
   "nbconvert_exporter": "python",
   "pygments_lexer": "ipython3",
   "version": "3.12.4"
  }
 },
 "nbformat": 4,
 "nbformat_minor": 5
}
